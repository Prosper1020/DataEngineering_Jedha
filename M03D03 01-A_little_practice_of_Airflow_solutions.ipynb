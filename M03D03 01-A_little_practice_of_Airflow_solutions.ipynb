{
 "cells": [
  {
   "cell_type": "markdown",
   "metadata": {
    "colab_type": "text",
    "id": "DV3eNdTtyaSQ"
   },
   "source": [
    "# A Little Practice of Airflow \n",
    "\n",
    "Airflow can be a little hard to master when learning for the first time. Let's then do a little exercise by create a DAG that will only be running *BashOperators* that will simply echo the name of the task. \n",
    "\n",
    "Let's write this DAG then 🎾🎾"
   ]
  },
  {
   "cell_type": "markdown",
   "metadata": {
    "colab_type": "text",
    "id": "XZvEi3LOzSja"
   },
   "source": [
    "1. Let's import the libraries that we need. \n",
    "  * `timedelta` from `datetime` \n",
    "  * `DAG` from `airflow.models`\n",
    "  * `BashOperator` from `airflow.operators.bash_operator`"
   ]
  },
  {
   "cell_type": "code",
   "execution_count": null,
   "metadata": {
    "colab": {},
    "colab_type": "code",
    "id": "a6BAiXbgyTjw"
   },
   "outputs": [],
   "source": [
    "from datetime import timedelta\n",
    "\n",
    "from airflow.models import DAG\n",
    "from airflow.operators.bash_operator import BashOperator\n",
    "from airflow.operators.dummy_operator import DummyOperator\n",
    "from airflow.utils.dates import days_ago"
   ]
  },
  {
   "cell_type": "markdown",
   "metadata": {
    "colab_type": "text",
    "id": "AZHwJrzPzxiI"
   },
   "source": [
    "2. Create a dictionnary called `args` that states the:\n",
    "  * `id`\n",
    "  * `owner`\n",
    "  * `start_date`\n",
    "  * `schedule_interval` to daily"
   ]
  },
  {
   "cell_type": "code",
   "execution_count": null,
   "metadata": {
    "colab": {},
    "colab_type": "code",
    "id": "M_X70DXfzx8N"
   },
   "outputs": [],
   "source": [
    "args = {\n",
    "    \n",
    "    'owner': 'airflow',\n",
    "    'start_date': days_ago(2),\n",
    "    'schedule_interval': '@daily'\n",
    "}"
   ]
  },
  {
   "cell_type": "markdown",
   "metadata": {
    "colab_type": "text",
    "id": "CIoLrItQ0gXI"
   },
   "source": [
    "3. Instanciate a `DAG` class with the following arguments: \n",
    "  * `id`\n",
    "  * `default_args`\n",
    "  * `schedule_interval`"
   ]
  },
  {
   "cell_type": "code",
   "execution_count": null,
   "metadata": {
    "colab": {},
    "colab_type": "code",
    "id": "KpnziH5R0g2K"
   },
   "outputs": [],
   "source": [
    "dag = DAG(\n",
    "    dag_id='example_bash_operator',\n",
    "    default_args=args,\n",
    "    schedule_interval='0 0 * * *',\n",
    "    dagrun_timeout=timedelta(minutes=60),\n",
    ")"
   ]
  },
  {
   "cell_type": "markdown",
   "metadata": {
    "colab_type": "text",
    "id": "5hoOtSbn1sAA"
   },
   "source": [
    "4. Create a loop of 4 `BashOperator` instance that will echo `{{task_instance_key_str}}` "
   ]
  },
  {
   "cell_type": "code",
   "execution_count": null,
   "metadata": {
    "colab": {},
    "colab_type": "code",
    "id": "qQFmsz_f1snK"
   },
   "outputs": [],
   "source": [
    "for i in range(3):\n",
    "    task = BashOperator(\n",
    "        task_id='runme_' + str(i),\n",
    "        bash_command='echo \"{{ task_instance_key_str }}\" && sleep 1',\n",
    "        dag=dag,\n",
    "      )"
   ]
  },
  {
   "cell_type": "markdown",
   "metadata": {
    "colab_type": "text",
    "id": "7wLqqwCn2bEd"
   },
   "source": [
    "5. Finally create a final `BashOperator` instance that will simply echo `CIAO :)`"
   ]
  },
  {
   "cell_type": "code",
   "execution_count": null,
   "metadata": {
    "colab": {},
    "colab_type": "code",
    "id": "y_gMC3qj2Xy_"
   },
   "outputs": [],
   "source": [
    "# [START howto_operator_bash_template]\n",
    "also_run_this = BashOperator(\n",
    "    task_id='also_run_this',\n",
    "    bash_command='echo \"ciao :)\"',\n",
    "    dag=dag,\n",
    ")"
   ]
  },
  {
   "cell_type": "markdown",
   "metadata": {
    "colab_type": "text",
    "id": "wmBWngQP2odd"
   },
   "source": [
    "6. Create dependencies where your first task will need to run **before** your last task "
   ]
  },
  {
   "cell_type": "code",
   "execution_count": null,
   "metadata": {
    "colab": {},
    "colab_type": "code",
    "id": "zfOlBvCi2nnE"
   },
   "outputs": [],
   "source": [
    "# [END howto_operator_bash_template]\n",
    "task >> also_run_this"
   ]
  },
  {
   "cell_type": "markdown",
   "metadata": {
    "colab_type": "text",
    "id": "Tt8XmhFu3QHr"
   },
   "source": [
    "👏👏👏🎈🎈 Congratulations, you made your first DAG !! That a very good start  🎈🎈👏👏👏"
   ]
  },
  {
   "cell_type": "code",
   "execution_count": null,
   "metadata": {
    "colab": {},
    "colab_type": "code",
    "id": "Rs3NVJuT3l1l"
   },
   "outputs": [],
   "source": []
  }
 ],
 "metadata": {
  "colab": {
   "collapsed_sections": [],
   "name": "1a Solution - A little practice of Airflow.ipynb",
   "provenance": []
  },
  "kernelspec": {
   "display_name": "Python 3",
   "language": "python",
   "name": "python3"
  },
  "language_info": {
   "codemirror_mode": {
    "name": "ipython",
    "version": 3
   },
   "file_extension": ".py",
   "mimetype": "text/x-python",
   "name": "python",
   "nbconvert_exporter": "python",
   "pygments_lexer": "ipython3",
   "version": "3.8.6"
  }
 },
 "nbformat": 4,
 "nbformat_minor": 4
}
