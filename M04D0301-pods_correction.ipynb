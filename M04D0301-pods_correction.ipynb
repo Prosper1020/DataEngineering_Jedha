{
 "cells": [
  {
   "cell_type": "markdown",
   "metadata": {},
   "source": [
    "# Pods\n",
    "\n",
    "In this exercise we will play with pods.\n",
    "\n",
    "1. Launch a pod with one container with these specifications:\n",
    "\n",
    "- image: httpd\n",
    "- labels: \"app: webServer\"\n",
    "- name: apache\n",
    "\n",
    "2. Listing pods with a kubectl command.\n",
    "\n",
    "3. Display the pod specification in yaml using a kubectl command. \n",
    "\n",
    "4. With a port-forward, try to display the web server default page. It works? ;)\n",
    "\n",
    "5. Delete the pod. Two ways possible. Can be done in two different ways.\n",
    "\n",
    "# Correction\n",
    "\n",
    "1. ```yaml\n",
    "   apiVersion: v1\n",
    "   kind: Pod\n",
    "   metadata:\n",
    "     labels:\n",
    "       app: webServer \n",
    "     name: apache\n",
    "   spec:\n",
    "     containers:\n",
    "     - image: httpd\n",
    "       name: httpd\n",
    "   ```\n",
    "   \n",
    "   ```shell\n",
    "   kubectl apply -f pod.yaml\n",
    "   ```\n",
    "\n",
    "2. ```shell\n",
    "   kubectl get pods;\n",
    "   ```\n",
    "\n",
    "3. ```shell\n",
    "   kubectl get pod apache -o yaml;\n",
    "   ```\n",
    "\n",
    "4. ```shell\n",
    "   kubectl port-forward apache 8008:80\n",
    "   ```\n",
    "   \n",
    "   Browse to localhost:8080\n",
    "\n",
    "\n",
    "5. ```shell\n",
    "   kubectl delete -f pod.yaml;\n",
    "   # OR\n",
    "   kubectl delete pod apache;\n",
    "   ```"
   ]
  }
 ],
 "metadata": {
  "kernelspec": {
   "display_name": "Python 3",
   "language": "python",
   "name": "python3"
  },
  "language_info": {
   "codemirror_mode": {
    "name": "ipython",
    "version": 3
   },
   "file_extension": ".py",
   "mimetype": "text/x-python",
   "name": "python",
   "nbconvert_exporter": "python",
   "pygments_lexer": "ipython3",
   "version": "3.8.6"
  }
 },
 "nbformat": 4,
 "nbformat_minor": 4
}