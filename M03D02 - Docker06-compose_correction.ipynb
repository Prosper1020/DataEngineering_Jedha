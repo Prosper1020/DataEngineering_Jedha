{
 "cells": [
  {
   "cell_type": "markdown",
   "metadata": {},
   "source": [
    "# Compose\n",
    "\n",
    "The objective of this exercise is to start up a postgres database and an administration interface with adminer.\n",
    "\n",
    "1. Create a docker-compose file with :\n",
    "   \n",
    "   - two services (postgres, admirer)\n",
    "   \n",
    "   - connect it in the same network\n",
    "   \n",
    "   - use a volume to store postgres data\n",
    "\n",
    "2. Create a new database and a new table with random data.\n",
    "\n",
    "3. Connect with bash command and display this data\n",
    "\n",
    "## Correction\n",
    "\n",
    "1. ```dockerfile\n",
    "   version: '3.7'\n",
    "   services:\n",
    "     adminer:\n",
    "       container_name: adminer\n",
    "       image: adminer\n",
    "       networks:\n",
    "         net: {}\n",
    "       ports:\n",
    "       - published: 5001\n",
    "         target: 8080\n",
    "       restart: always"
   ]
  },
  {
   "cell_type": "code",
   "execution_count": null,
   "metadata": {},
   "outputs": [],
   "source": [
    "postgres:\n",
    "  container_name: postgres\n",
    "  environment:\n",
    "    HOSTNAME: postgres\n",
    "    POSTGRES_DB: postgres\n",
    "    POSTGRES_PASSWORD: postgres\n",
    "    POSTGRES_USER: postgres\n",
    "  image: postgres:latest\n",
    "  networks:\n",
    "    net: {}\n",
    "  ports:\n",
    "  - published: 5432\n",
    "    target: 5432\n",
    "  restart: unless-stopped\n",
    "  volumes:\n",
    "  - postgres_data:/var/lib/postgresql/data:rw"
   ]
  },
  {
   "cell_type": "markdown",
   "metadata": {},
   "source": [
    "volumes:\n",
    "     postgres_data: {} \n",
    "   networks:\n",
    "     net:\n",
    "   ```\n",
    "\n",
    "2. The tool is very simple to use. To log in, the identifiers are those entered in the docker-compose.\n",
    "\n",
    "3. ```bash\n",
    "   docker container exec -it postgres psql -U postgres;\n",
    "   postgres=# select * from users;\n",
    "    name \n",
    "   ------\n",
    "    Marc\n",
    "   (1 row)\n",
    "   ```"
   ]
  }
 ],
 "metadata": {},
 "nbformat": 4,
 "nbformat_minor": 4
}
