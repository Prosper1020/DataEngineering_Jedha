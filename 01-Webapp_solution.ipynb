{
 "cells": [
  {
   "cell_type": "markdown",
   "metadata": {},
   "source": [
    "## Web App\n",
    "\n",
    "The objective of this project is to create two dockerfiles for a web application in nodejs.\n",
    "\n",
    "1. The first dockerfile will allow to create an image to develop code (development environment, presence of hotreload).\n",
    "\n",
    "2. The second dockerfile will create a compiled and optimised version of the application ready to be deployed in production with nginx.\n",
    "\n",
    "This is a difficult exercise. You can use the help and correction if you are stuck. Do not hesitate to reread the course. A todolist application is provided.\n",
    "\n",
    "This project is deliberately difficult and formative. It is a concrete subject.\n",
    "With the help of the detailed correction you can help the students on the blocking points.\n",
    "\n",
    "## Development mode\n",
    "\n",
    "Dockerfile"
   ]
  },
  {
   "cell_type": "code",
   "execution_count": null,
   "metadata": {
    "attributes": {
     "classes": [
      "dockerfile"
     ],
     "id": ""
    }
   },
   "outputs": [],
   "source": [
    "FROM node:10.18.1\n",
    "WORKDIR /app\n",
    "COPY package.json ./\n",
    "RUN npm i\n",
    "CMD npm run serve"
   ]
  },
  {
   "cell_type": "markdown",
   "metadata": {},
   "source": [
    "1. Node allows you to compile the application in real time for hot reload.\n",
    "\n",
    "2. Create a folder in the image to put the dependencies of the application. Be careful if you add a dependency during the development of the application, you will have to think about rebuilding the image.\n",
    "\n",
    "3. Copy of the .json package and installation of the dependencies\n",
    "\n",
    "4. The run command corresponds to the command issued when the container is started. serve allows hot reload to be used.\n",
    "\n",
    "Application build"
   ]
  },
  {
   "cell_type": "code",
   "execution_count": null,
   "metadata": {},
   "outputs": [],
   "source": [
    "%%bash\n",
    "docker build -t todo:dev -f Dockerfile.dev ."
   ]
  },
  {
   "cell_type": "markdown",
   "metadata": {},
   "source": [
    "1. The -f option allows to choose a specific dockerfile\n",
    "\n",
    "Container instanciation"
   ]
  },
  {
   "cell_type": "code",
   "execution_count": null,
   "metadata": {},
   "outputs": [],
   "source": [
    "%%bash\n",
    "docker container run -v ${PWD}:/app -v /app/node_modules -p 8080:8080 todo:dev"
   ]
  },
  {
   "cell_type": "markdown",
   "metadata": {},
   "source": [
    "After building this image with the dependencies you need to instantiate a container with a binding of the source folder in the same folder as the dependencies.\n",
    "\n",
    "1. We will bind the current folder in the container, the sources can be modified.\n",
    "\n",
    "2. We use an anonymous volume to avoid overwriting module nodes during source linking \n",
    "\n",
    "3. The server launched by the npm command listens on port 8080\n",
    "\n",
    "## Production mode"
   ]
  },
  {
   "cell_type": "code",
   "execution_count": null,
   "metadata": {
    "attributes": {
     "classes": [
      "dockerfile"
     ],
     "id": ""
    }
   },
   "outputs": [],
   "source": [
    "# BUILD\n",
    "FROM node:10.18.1 as build-stage\n",
    "WORKDIR /app\n",
    "COPY . .\n",
    "RUN npm i\n",
    "RUN npm run build\n",
    "\n",
    "# PROD\n",
    "FROM nginx:stable-alpine as production-stage\n",
    "COPY --from=build-stage /app/dist /var/www\n",
    "COPY nginx.conf /etc/nginx/nginx.conf\n",
    "EXPOSE 80\n",
    "CMD [\"nginx\", \"-g\", \"daemon off;\"]"
   ]
  },
  {
   "cell_type": "markdown",
   "metadata": {},
   "source": [
    "1. Node will allow the construction of the application.\n",
    "\n",
    "2. Copy of sources, installation of dependencies and construction of the application.\n",
    "\n",
    "The source code is now no longer useful we want to keep only the transcompiled files.\n",
    "\n",
    "3. Let's use the nginx image to serve these files. Just add the configuration file to replace the default one. \n",
    "\n",
    "4. Copy of the application.\n",
    "\n",
    "5. To the WWW file served by nginx\n",
    "\n",
    "6. The server will be started when the container is instantiated.\n",
    "\n",
    "Application build"
   ]
  },
  {
   "cell_type": "code",
   "execution_count": null,
   "metadata": {},
   "outputs": [],
   "source": [
    "%%bash\n",
    "docker image build -t todo:prod ."
   ]
  },
  {
   "cell_type": "markdown",
   "metadata": {},
   "source": [
    "Starting the container"
   ]
  },
  {
   "cell_type": "code",
   "execution_count": null,
   "metadata": {},
   "outputs": [],
   "source": [
    "%%bash\n",
    "docker container run -p 8080:80 todo:prod"
   ]
  }
 ],
 "metadata": {},
 "nbformat": 4,
 "nbformat_minor": 4
}
