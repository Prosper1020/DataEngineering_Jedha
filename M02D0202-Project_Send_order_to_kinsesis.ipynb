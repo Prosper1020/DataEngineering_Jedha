{
 "cells": [
  {
   "cell_type": "markdown",
   "metadata": {},
   "source": [
    "# Send orders to Kinesis\n",
    "\n",
    "In this file we will read the orders from the json files and publish each line as an event to Kinesis."
   ]
  },
  {
   "cell_type": "code",
   "execution_count": null,
   "metadata": {},
   "outputs": [],
   "source": [
    "import com.amazonaws.services.kinesis.model.PutRecordRequest\n",
    "import com.amazonaws.services.kinesis.AmazonKinesisClientBuilder\n",
    "import com.amazonaws.auth.{AWSStaticCredentialsProvider, BasicAWSCredentials}\n",
    "import org.apache.spark.sql.functions._\n",
    "import org.apache.spark.sql.types._\n",
    "import collection.JavaConverters._\n",
    "\n",
    "import java.nio.ByteBuffer\n",
    "import scala.util.Random\n",
    "\n",
    "import scala.util.Random\n",
    "import java.lang.reflect.{Type, ParameterizedType}\n",
    "import com.fasterxml.jackson.databind.ObjectMapper\n",
    "import com.fasterxml.jackson.module.scala.DefaultScalaModule\n",
    "import com.fasterxml.jackson.annotation.JsonProperty;\n",
    "import com.fasterxml.jackson.core.`type`.TypeReference;"
   ]
  },
  {
   "cell_type": "code",
   "execution_count": null,
   "metadata": {},
   "outputs": [],
   "source": [
    "val awsAccessKeyId = \"******\"\n",
    "val awsSecretKey = \"*******\"\n",
    "val kinesisStreamName = \"Jedha-orders\"\n",
    "val kinesisRegion = \"eu-west-1\" \n",
    "\n",
    "sc.hadoopConfiguration.set(\"fs.s3a.access.key\", awsAccessKeyId)\n",
    "sc.hadoopConfiguration.set(\"fs.s3a.secret.key\", awsSecretKey)"
   ]
  },
  {
   "cell_type": "markdown",
   "metadata": {},
   "source": [
    "we read the orders"
   ]
  },
  {
   "cell_type": "code",
   "execution_count": null,
   "metadata": {},
   "outputs": [],
   "source": [
    "var orders = spark.read.text(\"s3://output-databricks/data/orders-part*.json\")"
   ]
  },
  {
   "cell_type": "markdown",
   "metadata": {},
   "source": [
    "we publich each line to Nakadi"
   ]
  },
  {
   "cell_type": "code",
   "execution_count": null,
   "metadata": {},
   "outputs": [],
   "source": [
    "val kinesisClient = AmazonKinesisClientBuilder.standard()\n",
    "  .withRegion(kinesisRegion)\n",
    "  .withCredentials(new AWSStaticCredentialsProvider(new BasicAWSCredentials(awsAccessKeyId, awsSecretKey)))\n",
    "  .build()\n",
    "\n",
    "var lastSequenceNumber: String = null\n",
    "\n",
    "val it = orders.toLocalIterator\n",
    "\n",
    "while (it.hasNext) {\n",
    "  val time = System.currentTimeMillis\n",
    "  \n",
    "  val data = it.next()(0).asInstanceOf[String] + \"\\n\"\n",
    "  val request = new PutRecordRequest()\n",
    "      .withStreamName(kinesisStreamName)\n",
    "      .withPartitionKey(\"some-key\")\n",
    "      .withData(ByteBuffer.wrap(data.getBytes()))\n",
    "  if (lastSequenceNumber != null) {\n",
    "    request.setSequenceNumberForOrdering(lastSequenceNumber)\n",
    "  }    \n",
    "  val result = kinesisClient.putRecord(request)\n",
    "  lastSequenceNumber = result.getSequenceNumber()\n",
    "  println(result)\n",
    "  Thread.sleep(math.max(1000 - (System.currentTimeMillis - time), 0)) // loop around every ~10 seconds \n",
    "}"
   ]
  }
 ],
 "metadata": {
  "kernelspec": {
   "display_name": "spylon-kernel",
   "language": "scala",
   "name": "spylon-kernel"
  },
  "language_info": {
   "codemirror_mode": "text/x-scala",
   "file_extension": ".scala",
   "help_links": [
    {
     "text": "MetaKernel Magics",
     "url": "https://metakernel.readthedocs.io/en/latest/source/README.html"
    }
   ],
   "mimetype": "text/x-scala",
   "name": "scala",
   "pygments_lexer": "scala",
   "version": "0.4.1"
  }
 },
 "nbformat": 4,
 "nbformat_minor": 4
}
