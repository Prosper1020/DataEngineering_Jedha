{
 "cells": [
  {
   "cell_type": "markdown",
   "metadata": {},
   "source": [
    "# Swarm\n",
    "\n",
    "1. ```bash\n",
    "   docker-machine create --driver amazonec2 masteraws;\n",
    "   docker-machine create --driver amazonec2 workeraws;\n",
    "   ```\n",
    "   \n",
    "   Don't forget the post installation :\n",
    "   \n",
    "   ```bash\n",
    "   sudo usermod -aG docker $USER && sudo reboot;\n",
    "   ```\n",
    "\n",
    "2. ```bash\n",
    "   docker swarm init --advertise-addr 34.205.125.113;\n",
    "   Swarm initialized: current node (pmso1re993hv5ml6x9bzhqlzw) is now a manager.\n",
    "   \n",
    "   To add a worker to this swarm, run the following command:"
   ]
  },
  {
   "cell_type": "code",
   "execution_count": null,
   "metadata": {},
   "outputs": [],
   "source": [
    "docker swarm join --token SWMTKN-1-3p8zcnb7if2hdcp1ogm9itpa03hetimz9qv7w9mziq6dpz7bs0-93j3jwbkj84kq3sdz3vbykk69 34.205.125.113:2377"
   ]
  },
  {
   "cell_type": "markdown",
   "metadata": {},
   "source": [
    "To add a manager to this swarm, run 'docker swarm join-token manager' and follow the instructions.\n",
    "   ```\n",
    "\n",
    "                1. master in swarm mode"
   ]
  },
  {
   "cell_type": "code",
   "execution_count": null,
   "metadata": {},
   "outputs": [],
   "source": [
    "%%bash\n",
    "docker swarm join --token SWMTKN-1-3p8zcnb7if2hdcp1ogm9itpa03hetimz9qv7w9mziq6dpz7bs0-93j3jwbkj84kq3sdz3vbykk69 34.205.125.113:2377"
   ]
  },
  {
   "cell_type": "markdown",
   "metadata": {},
   "source": [
    "1. worker join the cluster\n",
    "\n",
    "BUT ..."
   ]
  },
  {
   "cell_type": "code",
   "execution_count": null,
   "metadata": {},
   "outputs": [],
   "source": [
    "%%bash\n",
    "Error response from daemon: Timeout was reached before node joined. The attempt to join the swarm will continue in the background. Use the \"docker info\" command to see the current swarm status of your node"
   ]
  },
  {
   "cell_type": "markdown",
   "metadata": {},
   "source": [
    "Why ? Because docker-machine open port 2376 on the host machine. Swarm cluster need 2377.\n",
    "\n",
    "Follow these steps to do this:\n",
    "\n",
    "- Open \"**Network & Security**\" -- Security Group settings are on the left-hand navigation\n",
    "- Find the security group connected to your instance\n",
    "- Choose “**inbound rules**”\n",
    "- Type the port number (in your case 2377) in “port range” then click “Add Rule”\n",
    "- Use the drop-down and add HTTP (port 80)\n",
    "3. ```docker\n",
    "   docker service create --name registry --publish published=5000,target=5000 registry:2\n",
    "   ```"
   ]
  },
  {
   "cell_type": "code",
   "execution_count": null,
   "metadata": {},
   "outputs": [],
   "source": [
    "%%bash\n",
    "4. "
   ]
  }
 ],
 "metadata": {},
 "nbformat": 4,
 "nbformat_minor": 4
}
