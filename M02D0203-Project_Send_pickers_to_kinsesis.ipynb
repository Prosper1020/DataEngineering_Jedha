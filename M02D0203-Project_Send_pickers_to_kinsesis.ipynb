{
 "cells": [
  {
   "cell_type": "markdown",
   "metadata": {},
   "source": [
    "# Send pickers to Kinesis\n",
    "\n",
    "In this file we generate rand picker movements between blocks."
   ]
  },
  {
   "cell_type": "code",
   "execution_count": null,
   "metadata": {},
   "outputs": [],
   "source": [
    "import com.amazonaws.services.kinesis.model.PutRecordRequest\n",
    "import com.amazonaws.services.kinesis.AmazonKinesisClientBuilder\n",
    "import com.amazonaws.auth.{AWSStaticCredentialsProvider, BasicAWSCredentials}\n",
    "import org.apache.spark.sql.functions._\n",
    "import org.apache.spark.sql.types._\n",
    "import collection.JavaConverters._\n",
    "\n",
    "import java.nio.ByteBuffer\n",
    "import scala.util.Random\n",
    "\n",
    "import scala.util.Random\n",
    "import java.lang.reflect.{Type, ParameterizedType}\n",
    "import com.fasterxml.jackson.databind.ObjectMapper\n",
    "import com.fasterxml.jackson.module.scala.DefaultScalaModule\n",
    "import com.fasterxml.jackson.annotation.JsonProperty;\n",
    "import com.fasterxml.jackson.core.`type`.TypeReference;"
   ]
  },
  {
   "cell_type": "code",
   "execution_count": null,
   "metadata": {},
   "outputs": [],
   "source": [
    "val awsAccessKeyId = \"******\"\n",
    "val awsSecretKey = \"*******\"\n",
    "val kinesisStreamName = \"Jedha-pickers\"\n",
    "val kinesisRegion = \"eu-west-1\" \n",
    "\n",
    "sc.hadoopConfiguration.set(\"fs.s3a.access.key\", awsAccessKeyId)\n",
    "sc.hadoopConfiguration.set(\"fs.s3a.secret.key\", awsSecretKey)"
   ]
  },
  {
   "cell_type": "code",
   "execution_count": null,
   "metadata": {},
   "outputs": [],
   "source": [
    "case class Picker(block: Integer, action: String)\n",
    "\n",
    "\n",
    "def getRandomPicker(action: String): Picker = {\n",
    "  val r = scala.util.Random\n",
    "  Picker(r.nextInt(10), action)\n",
    "}\n",
    "\n",
    "val kinesisClient = AmazonKinesisClientBuilder.standard()\n",
    "  .withRegion(kinesisRegion)\n",
    "  .withCredentials(new AWSStaticCredentialsProvider(new BasicAWSCredentials(awsAccessKeyId, awsSecretKey)))\n",
    "  .build()\n",
    "\n",
    "var lastSequenceNumber: String = null\n",
    "\n",
    "val mapper = new ObjectMapper()\n",
    "mapper.registerModule(DefaultScalaModule)\n",
    "\n",
    "var overallNumberOfPickers = 0\n",
    "val optimalNumberOfPickers = 70\n",
    "\n",
    "\n",
    "for (i <- 0 to 100) {\n",
    "  val time = System.currentTimeMillis\n",
    "  var action = \"add\"\n",
    "  \n",
    "  if (overallNumberOfPickers < optimalNumberOfPickers){\n",
    "    action = \"add\"\n",
    "  } else {\n",
    "    val r = scala.util.Random\n",
    "    action = if (r.nextDouble()<0.5) \"add\" else \"remove\"\n",
    "  }\n",
    "  val data = mapper.writeValueAsString(getRandomPicker(action)) + \"\\n\"\n",
    "  \n",
    "  val request = new PutRecordRequest()\n",
    "      .withStreamName(kinesisStreamName)\n",
    "      .withPartitionKey(\"some-key\")\n",
    "      .withData(ByteBuffer.wrap(data.getBytes()))\n",
    "  if (lastSequenceNumber != null) {\n",
    "    request.setSequenceNumberForOrdering(lastSequenceNumber)\n",
    "  }    \n",
    "  val result = kinesisClient.putRecord(request)\n",
    "  println(result)\n",
    "  lastSequenceNumber = result.getSequenceNumber()\n",
    "\n",
    "  Thread.sleep(math.max(10000 - (System.currentTimeMillis - time), 0)) // loop around every ~10 seconds \n",
    "}"
   ]
  }
 ],
 "metadata": {
  "kernelspec": {
   "display_name": "spylon-kernel",
   "language": "scala",
   "name": "spylon-kernel"
  },
  "language_info": {
   "codemirror_mode": "text/x-scala",
   "file_extension": ".scala",
   "help_links": [
    {
     "text": "MetaKernel Magics",
     "url": "https://metakernel.readthedocs.io/en/latest/source/README.html"
    }
   ],
   "mimetype": "text/x-scala",
   "name": "scala",
   "pygments_lexer": "scala",
   "version": "0.4.1"
  }
 },
 "nbformat": 4,
 "nbformat_minor": 4
}
