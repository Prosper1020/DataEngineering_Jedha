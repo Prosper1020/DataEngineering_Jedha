{
 "cells": [
  {
   "cell_type": "markdown",
   "metadata": {},
   "source": [
    "# Volumes\n",
    "\n",
    "We're going to play a bit with the volumes. Our goal is to share a volume between two pods and have fun making them talk. We will be simple spectators of the scene. I hope you like racquet games.\n",
    "\n",
    "1. Create two containers:\n",
    "   \n",
    "    - First one:\n",
    "        - name: ping\n",
    "        - image: alpine\n",
    "        - volume: room (type: hostPath)\n",
    "        - behavior: write \"ping!\" every second inside a file named \"/room/table.txt\""
   ]
  },
  {
   "cell_type": "markdown",
   "metadata": {},
   "source": [
    "- Second:\n",
    "    - Same spec. Reply \"pong!\" on the same file."
   ]
  },
  {
   "cell_type": "markdown",
   "metadata": {},
   "source": [
    "2. Using the kubectl exec command, display the file to see the containers playing\n",
    "\n",
    "## Correction\n",
    "\n",
    "First:\n",
    "\n",
    "```yaml\n",
    "apiVersion: v1\n",
    "kind: Pod\n",
    "metadata:\n",
    "  labels:\n",
    "    app: pong \n",
    "  name: pong\n",
    "spec:\n",
    "  containers:\n",
    "  - image: alpine\n",
    "    name: alpine\n",
    "    volumeMounts:\n",
    "    - name: room\n",
    "      mountPath: /room\n",
    "    command: [\"/bin/sh\", \"-c\"]\n",
    "    args:\n",
    "      - while true; do\n",
    "        echo \"Pong!\" >> /room/table.txt;\n",
    "          sleep 1;\n",
    "        done\n",
    "  volumes:\n",
    "  - name: room\n",
    "    hostPath: \n",
    "      path: /room\n",
    "      type: DirectoryOrCreate\n",
    "```"
   ]
  },
  {
   "cell_type": "markdown",
   "metadata": {},
   "source": [
    "Second:\n",
    "\n",
    "```yaml\n",
    "apiVersion: v1\n",
    "kind: Pod\n",
    "metadata:\n",
    "  labels:\n",
    "    app: ping \n",
    "  name: ping\n",
    "spec:\n",
    "  containers:\n",
    "  - image: alpine\n",
    "    name: alpine\n",
    "    volumeMounts:\n",
    "    - name: room\n",
    "      mountPath: /room\n",
    "    command: [\"/bin/sh\", \"-c\"]\n",
    "    args:\n",
    "      - while true; do\n",
    "        echo \"Ping!\" >> /room/table.txt;\n",
    "          sleep 1;\n",
    "        done\n",
    "  volumes:\n",
    "  - name: room\n",
    "    hostPath: \n",
    "      path: /room\n",
    "      type: DirectoryOrCreate\n",
    "```"
   ]
  },
  {
   "cell_type": "markdown",
   "metadata": {},
   "source": [
    "2. ```shell\n",
    "   kubectl exec ping -- cat /room/table.txt\n",
    "   Ping!\n",
    "   Pong!\n",
    "   Ping!\n",
    "   Pong!\n",
    "   Ping!\n",
    "   Pong!\n",
    "   Ping!\n",
    "   ```"
   ]
  }
 ],
 "metadata": {
  "kernelspec": {
   "display_name": "Python 3",
   "language": "python",
   "name": "python3"
  },
  "language_info": {
   "codemirror_mode": {
    "name": "ipython",
    "version": 3
   },
   "file_extension": ".py",
   "mimetype": "text/x-python",
   "name": "python",
   "nbconvert_exporter": "python",
   "pygments_lexer": "ipython3",
   "version": "3.8.6"
  }
 },
 "nbformat": 4,
 "nbformat_minor": 4
}
