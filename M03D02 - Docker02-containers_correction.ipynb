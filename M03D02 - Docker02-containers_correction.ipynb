{
 "cells": [
  {
   "cell_type": "markdown",
   "metadata": {},
   "source": [
    "# Playing with containers\n",
    "\n",
    "The aim of this exercise is to go through and play with the knowledge we have just acquired.\n",
    "\n",
    "1. ```bash\n",
    "   docker container run -e POSTGRES_PASSWORD=postgres -e POSTGRES_USER=postgres -d --name postgres postgres:latest\n",
    "   ```\n",
    "\n",
    "2. ```bashag-0-1ek43l3a1ag-1-1ek43l3a1\n",
    "   docker exec -it postgres psql -U postgres;\n",
    "   ```\n",
    "\n",
    "3. ```bash\n",
    "   exit; \n",
    "   docker container stop postgres;\n",
    "   ```\n",
    "\n",
    "4. No. The container is not removed, it is simply stopped. The daemon only deletes data from a container when it is deleted.\n",
    "\n",
    "5. ```bash\n",
    "   docker inspect postgres;\n",
    "   ```\n",
    "\n",
    "6. Inside the container : \n",
    "   \n",
    "   ```\n",
    "   /var/lib/postgresql/data\n",
    "   ```\n",
    "\n",
    "On the host:"
   ]
  },
  {
   "cell_type": "code",
   "execution_count": null,
   "metadata": {},
   "outputs": [],
   "source": [
    "%%bash\n",
    "/var/lib/docker/volumes/<id>/data"
   ]
  },
  {
   "cell_type": "markdown",
   "metadata": {},
   "source": [
    "7. ```bash\n",
    "   docker restart postgres; \n",
    "   docker exec -it postgres psql -U postgres;\n",
    "   \\d;\n",
    "   ```\n",
    "\n",
    "\\d allows you to list the tables in the database.\n",
    "\n",
    "8. ```bash\n",
    "   ag-0-1ek43l3a1ag-1-1ek43l3a1ag-0-1ek43l3a1ag-1-1ek43l3a1\n",
    "   ```"
   ]
  }
 ],
 "metadata": {},
 "nbformat": 4,
 "nbformat_minor": 4
}
